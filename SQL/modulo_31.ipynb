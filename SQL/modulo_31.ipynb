{
  "nbformat": 4,
  "nbformat_minor": 0,
  "metadata": {
    "colab": {
      "provenance": [],
      "toc_visible": true
    },
    "kernelspec": {
      "name": "python3",
      "display_name": "Python 3"
    }
  },
  "cells": [
    {
      "cell_type": "markdown",
      "metadata": {
        "id": "KJqp9AANOCtf"
      },
      "source": [
        "<img src=\"https://raw.githubusercontent.com/andre-marcos-perez/ebac-course-utils/main/media/logo/newebac_logo_black_half.png\" alt=\"ebac-logo\">\n",
        "\n",
        "---\n",
        "\n",
        "# **Módulo** | SQL: Filtrando & Seleção Condicional\n",
        "Caderno de **Exercícios**<br> \n",
        "Professor [Mariane Neiva](https://www.linkedin.com/in/mariane-neiva/)\n",
        "\n",
        "---"
      ]
    },
    {
      "cell_type": "markdown",
      "metadata": {
        "id": "d9jDtUbDOE1-"
      },
      "source": [
        "# **Tópicos**\n",
        "\n",
        "<ol type=\"1\">\n",
        "  <li>Filtros and, or, in e between;</li>\n",
        "  <li>Filtros like e wildcards;</li>\n",
        "  <li>Seleção condicional;</li>\n",
        "</ol>"
      ]
    },
    {
      "cell_type": "markdown",
      "metadata": {
        "id": "SmoHgt-lwkpD"
      },
      "source": [
        "---"
      ]
    },
    {
      "cell_type": "markdown",
      "metadata": {
        "id": "DIlQOznoTPQF"
      },
      "source": [
        "# **Instruções**\n",
        "\n",
        "Nessa **atividades**, você deve:\n",
        "\n",
        " 1. Executar a consulta SQL fornecida;\n",
        " 2. Exportar os resultados em um arquivo csv para sua máquina; \n",
        " 3. Renomear o arquivo como **query\\<numero-da-query\\>.csv**;\n",
        " 4. Enviar para a avaliação do tutor na plataforma da EBAC.\n",
        "\n",
        "> **Atenção**: Substitua o **\\<numero-da-query>** numero da consulta, exemplo: **query1.csv**.\n",
        "\n",
        "**Importante**: Para consultar mais detalhes da AWS Athena [clique aqui](https://docs.aws.amazon.com/athena/latest/ug/what-is.html)"
      ]
    },
    {
      "cell_type": "markdown",
      "metadata": {
        "id": "vvlBORqbTPQp"
      },
      "source": [
        "---"
      ]
    },
    {
      "cell_type": "markdown",
      "metadata": {
        "id": "k4HJwfbQcEQw"
      },
      "source": [
        "# Atividades"
      ]
    },
    {
      "cell_type": "markdown",
      "metadata": {
        "id": "ym_TsGX5_6Nd"
      },
      "source": [
        "#1. Prática 1\n",
        "\n",
        "> **Não há necessidade de entrega**. \n",
        "Para esses exercícios, utilizaremos os mesmo dados do módulo 3.\n",
        "\n",
        "Caso você não tenha as informações de **transacoes.csv**, elas estarão disponíveis no material de aula.\n",
        "\n",
        "Siga os seguintes passos para criação da tabela (desconsidere caso você já tenha os dados no seu S3):\n",
        "\n",
        "* Crie uma pasta bucket-transacoes no seu S3 e carregue o arquivo **transacoes.csv**\n",
        "* Volta para o AWS Athena e execute o seguinte comando:\n",
        "\n",
        "```sql\n",
        "CREATE EXTERNAL TABLE transacoes(\n",
        "id_cliente BIGINT,\n",
        "id_transacao BIGINT,\n",
        "valor FLOAT,\n",
        "id_loja STRING)\n",
        "ROW FORMAT SERDE 'org.apache.hadoop.hive.serde2.OpenCSVSerde'\n",
        "WITH SERDEPROPERTIES ('separatorChar' = ',', 'quoteChar' = '\"', 'escapeChar' = '\\\\')\n",
        "STORED AS TEXTFILE\n",
        "LOCATION 's3://bucket-transacoess/'\n",
        "```\n",
        "\n",
        "Utilizaremos a tabela para os exercícios seguintes."
      ]
    },
    {
      "cell_type": "markdown",
      "metadata": {
        "id": "qDxe2l4cMcVa"
      },
      "source": [
        "# **2. Selecionando dados**\n",
        "\n",
        "Vamos testar os comandos and, or, in e between?! Execute as queries e salve o resultado para enviar os exercícios.   \n",
        "\n",
        "##2.1 Query 1 \n",
        "\n",
        "```sql \n",
        "SELECT *\n",
        "FROM transacoes\n",
        "WHERE valor > 30 AND id_loja = 'magalu';\n",
        "```\n",
        "\n",
        "| id_cliente | id_transacao | valor | id_loja |\n",
        "|------------|--------------|-------|---------|\n",
        "| 1 | 768805383 | 50.74 | magalu |\n",
        "| 1 | 76856563 | 2000.9 | magalu |\n",
        "\n",
        "\n",
        "> **Importante**: entregue os resultados da query com o nome *query1.csv*\n",
        "\n",
        "##2.2 Query 2 \n",
        "\n",
        "```sql \n",
        "SELECT *\n",
        "FROM transacoes\n",
        "WHERE valor > 30 OR id_loja = 'magalu';\n",
        "```\n",
        "\n",
        "| id_cliente | id_transacao | valor | id_loja |\n",
        "|------------|--------------|-------|---------|\n",
        "| 1 | 768805383 | 50.74 | magalu |\n",
        "| 2 | 768805399 | 30.9 | giraffas |\n",
        "| 3 | 818770008 |110.0 | postoshell |\n",
        "| 1 | 76856563 | 2000.9 | magalu |\n",
        "| 4 | 764545534 | 50.74 | extra |\n",
        "| 3 | 8154567758 | 1100.0 | shopee |\n",
        "\n",
        "> **Importante**: entregue os resultados da query com o nome *query2.csv*\n",
        "\n",
        "##2.3 Query 3\n",
        "\n",
        "```sql \n",
        "SELECT *\n",
        "FROM transacoes\n",
        "WHERE id_loja IN ('magalu','subway') AND valor > 10;\n",
        "```\n",
        "\n",
        "| id_cliente | id_transacao | valor | id_loja |\n",
        "|------------|--------------|-------|---------|\n",
        "| 1 | 768805383 | 50.74 | magalu |\n",
        "| 1 | 76856563 | 2000.9 | magalu |\n",
        "|1 | 767573759 | 15.7 | subway |\n",
        "\n",
        "\n",
        "> **Importante**: entregue os resultados da query com o nome *query3.csv*\n",
        "\n",
        "##2.4 Query 4\n",
        "\n",
        "```sql \n",
        "SELECT *\n",
        "FROM transacoes\n",
        "WHERE valor BETWEEN 60.0 AND 1000.0;\n",
        "```\n",
        "\n",
        "| id_cliente | id_transacao | valor | id_loja |\n",
        "|------------|--------------|-------|---------|\n",
        "| 3 | 818770008 | 110.0 | postoshell |\n",
        "\n",
        "\n",
        "> **Importante**: entregue os resultados da query com o nome *query4.csv*"
      ]
    },
    {
      "cell_type": "markdown",
      "metadata": {
        "id": "QJJ92QL9C6fL"
      },
      "source": [
        "# **3. Filtro like e wildcards**\n",
        "\n",
        "Agora é hora de trabalhar com padrões! Execute as queries e salve o resultado para enviar os exercícios.   \n",
        "\n",
        "##3.1 Query 5 \n",
        "\n",
        "```sql \n",
        "SELECT * \n",
        "FROM transacoes \n",
        "WHERE id_loja LIKE 'mag%'\n",
        "```\n",
        "\n",
        "| id_cliente | id_transacao | valor | id_loja |\n",
        "|------------|--------------|-------|---------|\n",
        "|1 | 768805383 | 50.74 | magalu |\n",
        "|1 | 76856563 | 2000.9 | magalu |\n",
        "\n",
        "\n",
        "> **Importante**: entregue os resultados da query com o nome *query5.csv*\n",
        "\n",
        "##3.2 Query 6\n",
        "\n",
        "```sql \n",
        "SELECT * \n",
        "FROM transacoes \n",
        "WHERE id_loja LIKE '%sh%'\n",
        "```\n",
        "\n",
        "| id_cliente | id_transacao | valor | id_loja |\n",
        "|------------|--------------|-------|---------|\n",
        "| 3 | 818770008 | 110.0 | postoshell |\n",
        "| 3 | 8154567758 | 1100.0 | shopee |\n",
        "\n",
        "\n",
        "> **Importante**: entregue os resultados da query com o nome *query6.csv*\n",
        "\n"
      ]
    },
    {
      "cell_type": "markdown",
      "metadata": {
        "id": "yprhfZqVDZXL"
      },
      "source": [
        "# **4. Seleção condicional**\n",
        "\n",
        "Chegou a hora de testar a combinação do CASE com o SELECT! Execute a  query e salve o resultado para enviar o  exercício.   \n",
        "\n",
        "##4.1 Query 7 \n",
        "\n",
        "```sql \n",
        "SELECT id_cliente, id_loja, valor,\n",
        "CASE\n",
        "    WHEN valor > 1000 THEN 'Compra com alto valor'\n",
        "    WHEN valor < 1000 THEN 'Compra com baixo valor'\n",
        "END \n",
        "AS classeValor, \n",
        "CASE\n",
        "    WHEN id_loja IN ('giraffas','subway')  THEN 'alimentacao'\n",
        "    WHEN id_loja IN ('magalu','extra') THEN 'variedade'\n",
        "    WHEN id_loja IN ('postoshell','seveneleven') THEN '24horas'\n",
        "    ELSE 'outros'\n",
        "END \n",
        "AS tipo_compra\n",
        "FROM transacoes;\n",
        "```\n",
        "\n",
        "|id_cliente | id_loja | valor | classeValor | tipo_compra |\n",
        "|-----------|---------|-------|-------------|-------------|\n",
        "|1 | magalu | 50.74 | Compra com baixo valor | variedade |\n",
        "| 2 | giraffas | 30.9 | Compra com baixo valor | alimentacao|\n",
        "|3 | postoshell | 110.0 | Compra com baixo valor | 24horas |\n",
        "| 1 | magalu | 2000.9 | Compra com alto valor | variedade |\n",
        "| 1 | subway | 15.7 | Compra com baixo valor | alimentacao |\n",
        "| 3 | seveneleven | 2.99 | Compra com baixo valor | 24horas |\n",
        "|4 | extra | 50.74 | Compra com baixo valor | variedade |\n",
        "| 5 | subway | 10.0 | Compra com baixo valor | alimentacao |\n",
        "|3 | shopee | 1100.0 | Compra com alto valor | outros |\n",
        "\n",
        "> **Importante**: entregue os resultados da query com o nome *query7.csv*\n",
        "\n"
      ]
    }
  ]
}