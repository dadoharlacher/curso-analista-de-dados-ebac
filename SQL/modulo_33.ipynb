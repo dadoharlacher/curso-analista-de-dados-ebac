{
  "nbformat": 4,
  "nbformat_minor": 0,
  "metadata": {
    "colab": {
      "provenance": [],
      "toc_visible": true
    },
    "kernelspec": {
      "name": "python3",
      "display_name": "Python 3"
    }
  },
  "cells": [
    {
      "cell_type": "markdown",
      "metadata": {
        "id": "KJqp9AANOCtf"
      },
      "source": [
        "<img src=\"https://raw.githubusercontent.com/andre-marcos-perez/ebac-course-utils/main/media/logo/newebac_logo_black_half.png\" alt=\"ebac-logo\">\n",
        "\n",
        "---\n",
        "\n",
        "# **Módulo** | SQL: Trabalhando com Múltiplas Tabelas\n",
        "Caderno de **Exercícios**<br> \n",
        "Professor [Mariane Neiva](www.linkedin.com/in/mariane-neiva)\n",
        "\n",
        "---"
      ]
    },
    {
      "cell_type": "markdown",
      "metadata": {
        "id": "d9jDtUbDOE1-"
      },
      "source": [
        "# **Tópicos**\n",
        "\n",
        "<ol type=\"1\">\n",
        "  <li>Union;</li>\n",
        "  <li>Junções: inner / cross;</li>\n",
        "  <li>Junções: left / right;</li>\n",
        "</ol>"
      ]
    },
    {
      "cell_type": "markdown",
      "metadata": {
        "id": "SmoHgt-lwkpD"
      },
      "source": [
        "---"
      ]
    },
    {
      "cell_type": "markdown",
      "metadata": {
        "id": "DIlQOznoTPQF"
      },
      "source": [
        "# **Instruções**\n",
        "\n",
        "Neste exercícios, vamos configurar e testar os serviços AWS S3 e AWS Athena da plataforma de computação em nuvem da AWS para utilizarmos durante todo o curso: \n",
        "\n",
        "Na etapa de **configuração**, você deve seguir o passo a passo de configuração do ambiente, não há entregáveis.\n",
        "\n",
        "Na etapa de **atividades**, você deve:\n",
        "\n",
        " 1. Eexecutar a consulta SQL fornecida;\n",
        " 2. Exportar os resultados em um arquivo csv para sua máquina; \n",
        " 3. Renomear o arquivo como **query_\\<numero-da-query>.csv**;\n",
        " 4. Enviar para a avaliação do tutor na plataforma da EBAC.\n",
        "\n",
        "> **Atenção**: Substitua o **\\<numero-da-query>** numero da consulta, exemplo: **query_1.csv**.\n",
        "\n"
      ]
    },
    {
      "cell_type": "markdown",
      "metadata": {
        "id": "vvlBORqbTPQp"
      },
      "source": [
        "---"
      ]
    },
    {
      "cell_type": "markdown",
      "metadata": {
        "id": "GABI6OW8OfQ2"
      },
      "source": [
        "# **Configuração**"
      ]
    },
    {
      "cell_type": "markdown",
      "metadata": {
        "id": "jdIScjXVWoHU"
      },
      "source": [
        "## 1\\. Configurando o AWS S3"
      ]
    },
    {
      "cell_type": "markdown",
      "metadata": {
        "id": "OCY24c61WoHW"
      },
      "source": [
        "1. Acesse AWS S3;\n",
        "2. Crie um novo bucket:\n",
        " *   **modulo6-<seu-nome\\>-ebac** \n",
        "3. Crie duas pastas dentro do bucket **modulo6-<seu-nome\\>-ebac**:\n",
        " *   **cliente**\n",
        " * **transacoes**\n",
        "4. Na pasta modulo6-<seu-nome\\>-ebac/cliente, carregue o arquivo **cliente.csv**\n",
        "5. Na pasta modulo6-<seu-nome\\>-ebac/transacoes, carregue o arquivo **transacoes.csv**\n",
        "\n",
        "> **Atenção**: Caso o bucket já exista, sinta-se a vontade para escolher o nome que desejar.\n",
        "\n",
        " > **Atenção**: Os arquivo **cliente.csv** e **transacoes.csv** está na plataforma da EBAC."
      ]
    },
    {
      "cell_type": "markdown",
      "metadata": {
        "id": "k4HJwfbQcEQw"
      },
      "source": [
        "# Atividades"
      ]
    },
    {
      "cell_type": "markdown",
      "metadata": {
        "id": "Lyqe05QXcERP"
      },
      "source": [
        "# **1. Criação da tabela** "
      ]
    },
    {
      "cell_type": "markdown",
      "metadata": {
        "id": "Rq7i2Tb4cERP"
      },
      "source": [
        "No console do AWS Athena, execute a seguinte query:\n",
        "\n",
        "```sql\n",
        "CREATE EXTERNAL TABLE IF NOT EXISTS default.cliente (\n",
        "  `id_cliente` int,\n",
        "  `nome` string, \n",
        "  `valor_compra` double,\n",
        "  `loja_cadastro` string \n",
        ")\n",
        "ROW FORMAT SERDE 'org.apache.hadoop.hive.serde2.lazy.LazySimpleSerDe'\n",
        "WITH SERDEPROPERTIES (\n",
        "  'serialization.format' = ',',\n",
        "  'field.delim' = ','\n",
        ") LOCATION 's3://modulo-33/clientes/'\n",
        "TBLPROPERTIES ('has_encrypted_data'='false');\n",
        "```\n",
        "e\n",
        "\n",
        "```sql\n",
        "CREATE EXTERNAL TABLE IF NOT EXISTS default.transacoes (\n",
        "  `id_cliente` int,\n",
        "  `id_transacao` int,\n",
        "  `valor_compra` double,\n",
        "  `id_loja` string \n",
        ")\n",
        "ROW FORMAT SERDE 'org.apache.hadoop.hive.serde2.lazy.LazySimpleSerDe'\n",
        "WITH SERDEPROPERTIES (\n",
        "  'serialization.format' = ',',\n",
        "  'field.delim' = ','\n",
        ") LOCATION 's3://modulo-33/transacoes/'\n",
        "TBLPROPERTIES ('has_encrypted_data'='false');\n",
        "```\n",
        "\n",
        "Para cada uma das queries, no painel de resultados, você deve encontrar o seguinte resultado.\n",
        "\n",
        "```\n",
        "Query successful.\n",
        "```\n",
        "\n",
        "\n",
        "> **Atenção**: No campo LOCATION, substitua o **\\<seu-nome>** pelo seu primeiro nome, exemplo: **modulo6-mari-ebac**.\n",
        "\n",
        "> **Atenção**: Nesta atividade, você não precisa exportar os resultados."
      ]
    },
    {
      "cell_type": "markdown",
      "metadata": {
        "id": "0cbohKQegVk7"
      },
      "source": [
        "# **2. Função UNION** "
      ]
    },
    {
      "cell_type": "markdown",
      "metadata": {
        "id": "0Airo3E0h5Ik"
      },
      "source": [
        "## 2.1. Query 1 "
      ]
    },
    {
      "cell_type": "markdown",
      "metadata": {
        "id": "2m92meC8gVk9"
      },
      "source": [
        "No console do AWS Athena, execute a seguinte query:\n",
        "\n",
        "```sql\n",
        "SELECT id_cliente FROM transacoes\n",
        "UNION\n",
        "SELECT id_cliente  FROM cliente;\n",
        "```\n",
        "\n",
        "\n",
        "\n",
        "|id_cliente|\n",
        "|-|\n",
        "|3|\n",
        "|1|\n",
        "|4|\n",
        "|5|\n",
        "|6|\n",
        "|2|\n",
        "\n",
        "> **Atenção**: Extraia os resultados para o arquivo CSV através do botão de download e renomei-o com o número da query. Voce deve envia-lo para os tutores de EBAC."
      ]
    },
    {
      "cell_type": "markdown",
      "metadata": {
        "id": "SHjoPsx2JFw8"
      },
      "source": [
        "# **3.Junções inner/cross**\n",
        "\n",
        "Vamos trabalhar agora a união inner e cruzamento de tabelas\n",
        "\n",
        "\n",
        "\n"
      ]
    },
    {
      "cell_type": "markdown",
      "metadata": {
        "id": "cNocCBKQJVea"
      },
      "source": [
        "## 3.1 Query 2 \n",
        "\n",
        "No console do AWS Athena, execute a seguinte query:\n",
        "\n",
        "```sql\n",
        "SELECT transacoes.id_cliente, cliente.nome\n",
        "FROM transacoes\n",
        "INNER JOIN cliente\n",
        "ON transacoes.id_cliente = cliente.id_cliente;\n",
        "```\n",
        "\n",
        "\n",
        "\n",
        "|id_cliente|nome|\n",
        "|-|-|\n",
        "|1|maria|\n",
        "|2|valentina\n",
        "|1|maria|\n",
        "|1|maria|\n",
        "|4|joana|\n",
        "|5|jose|\n",
        "\n",
        "> **Atenção**: Extraia os resultados para o arquivo CSV através do botão de download e renomei-o com o número da query. Voce deve envia-lo para os tutores de EBAC."
      ]
    },
    {
      "cell_type": "markdown",
      "metadata": {
        "id": "8O5UmLCdJX4h"
      },
      "source": [
        "## 3.2. Query 3\n",
        "\n",
        "No console do AWS Athena, execute a seguinte query:\n",
        "\n",
        "```sql\n",
        "SELECT *\n",
        "FROM cliente\n",
        "CROSS JOIN transacoes;\n",
        "```\n",
        "\n",
        "|id_cliente|nome|valor_compra|loja_cadastro|id_cliente|id_transacao|valor_compra|id_loja|\n",
        "|-|----|------|------|-|---------|-----|------|\n",
        "|5|jose|500.43|magalu|1|768805383|50.74|magalu|\n",
        "5|jose|500.43|magalu|2|768805399|30.9|giraffas|\n",
        "5|jose|500.43|magalu|3|818770008|110.0|postoshell|\n",
        "5|jose|500.43|magalu|1|76856563|2000.9|magalu|\n",
        "5|jose|500.43|magalu|1|767573759|15.7|subway|\n",
        "5|jose|500.43|magalu|3|818575758|2.99|seveneleven|\n",
        "5|jose|500.43|magalu|4|764545534|50.74|extra|\n",
        "5|jose|500.43|magalu|5|76766789|10.0|subway|\n",
        "5|jose|500.43|magalu|3|8154567758|1100.0|shopee|\n",
        "1|maria|150.7|subway|1|768805383|50.74|magalu|\n",
        "1|maria|150.7|subway|2|768805399|30.9|giraffas|\n",
        "1|maria|150.7|subway|3|818770008|110.0|postoshell|\n",
        "1|maria|150.7|subway|1|76856563|2000.9|magalu|\n",
        "1|maria|150.7|subway|1|767573759|15.7|subway|\n",
        "1|maria|150.7|subway|3|818575758|2.99|seveneleven|\n",
        "1|maria|150.7|subway|4|764545534|50.74|extra|\n",
        "1|maria|150.7|subway|5|76766789|10.0|subway|\n",
        "1|maria|150.7|subway|3|8154567758|1100.0|shopee|\n",
        "2|valentina|210.99|postoshell|1|768805383|50.74|magalu|\n",
        "2|valentina|210.99|postoshell|2|768805399|30.9|giraffas|\n",
        "2|valentina|210.99|postoshell|3|818770008|110.0|postoshell|\n",
        "2|valentina|210.99|postoshell|1|76856563|2000.9|magalu|\n",
        "2|valentina|210.99|postoshell|1|767573759|15.7|subway|\n",
        "2|valentina|210.99|postoshell|3|818575758|2.99|seveneleven|\n",
        "2|valentina|210.99|postoshell|4|764545534|50.74|extra|\n",
        "2|valentina|210.99|postoshell|5|76766789|10.0|subway|\n",
        "2|valentina|210.99|postoshell|3|8154567758|1100.0|shopee|\n",
        "4|joana|1300.5|magalu|1|768805383|50.74|magalu|\n",
        "4|joana|1300.5|magalu|2|768805399|30.9|giraffas|\n",
        "4|joana|1300.5|magalu|3|818770008|110.0|postoshell|\n",
        "4|joana|1300.5|magalu|1|76856563|2000.9|magalu|\n",
        "4|joana|1300.5|magalu|1|767573759|15.7|subway|\n",
        "4|joana|1300.5|magalu|3|818575758|2.99|seveneleven|\n",
        "4|joana|1300.5|magalu|4|764545534|50.74|extra|\n",
        "4|joana|1300.5|magalu|5|76766789|10.0|subway|\n",
        "4|joana|1300.5|magalu|3|8154567758|1100.0|shopee|\n",
        "6|fernando|86.55|seveneleven|1|768805383|50.74|magalu|\n",
        "6|fernando|86.55|seveneleven|2|768805399|30.9|giraffas|\n",
        "6|fernando|86.55|seveneleven|3|818770008|110.0|postoshell|\n",
        "6|fernando|86.55|seveneleven|1|76856563|2000.9|magalu|\n",
        "6|fernando|86.55|seveneleven|1|767573759|15.7|subway|\n",
        "6|fernando|86.55|seveneleven|3|818575758|2.99|seveneleven|\n",
        "6|fernando|86.55|seveneleven|4|764545534|50.74|extra|\n",
        "6|fernando|86.55|seveneleven|5|76766789|10.0|subway|\n",
        "6|fernando|86.55|seveneleven|3|8154567758|1100.0|shopee|\n",
        "\n",
        "\n",
        "> **Atenção**: Extraia os resultados para o arquivo CSV através do botão de download e renomei-o com o número da query. Voce deve envia-lo para os tutores de EBAC."
      ]
    },
    {
      "cell_type": "markdown",
      "metadata": {
        "id": "H4hIfbRVJaUk"
      },
      "source": [
        "# **4. Junções: left / right**"
      ]
    },
    {
      "cell_type": "markdown",
      "metadata": {
        "id": "B7ogcizXJffQ"
      },
      "source": [
        "## 4.1 Query 4\n",
        "\n",
        "No console do AWS Athena, execute a seguinte query:\n",
        "\n",
        "```sql\n",
        "SELECT *\n",
        "FROM transacoes\n",
        "LEFT JOIN cliente \n",
        "ON cliente.id_cliente = transacoes.id_cliente;\n",
        "```\n",
        "\n",
        "|id_cliente|id_transacao|valor_compra|id_loja|id_cliente|nome|valor_compra|loja_cadastro|\n",
        "|-|---------|-----|------|-|-----|-----|------|\n",
        "|1|768805383|50.74|magalu|1|maria|150.7|subway|\n",
        "2|768805399|30.9|giraffas|2|valentina|210.99|postoshell|\n",
        "3|818770008|110.0|postoshell|\n",
        "1|76856563|2000.9|magalu|1|maria|150.7|subway|\n",
        "1|767573759|15.7|subway|1|maria|150.7|subway|\n",
        "3|818575758|2.99|seveneleven|\n",
        "4|764545534|50.74|extra|4|joana|1300.5|magalu|\n",
        "5|76766789|10.0|subway|5|jose|500.43|magalu|\n",
        "3|8154567758|1100.0|shopee|\n",
        "\n",
        "\n",
        "> **Atenção**: Extraia os resultados para o arquivo CSV através do botão de download e renomei-o com o número da query. Voce deve envia-lo para os tutores de EBAC."
      ]
    },
    {
      "cell_type": "markdown",
      "metadata": {
        "id": "TdPhadO3JizI"
      },
      "source": [
        "## 4.2 Query 5\n",
        "\n",
        "No console do AWS Athena, execute a seguinte query:\n",
        "\n",
        "```sql\n",
        "SELECT *\n",
        "FROM transacoes\n",
        "RIGHT JOIN cliente \n",
        "ON cliente.id_cliente = transacoes.id_cliente;\n",
        "```\n",
        "\n",
        "|id_cliente|id_transacao|valor_compra|id_loja|id_cliente|nome|valor_compra|loja_cadastro|\n",
        "|-|---------|-----|------|-|-----|-----|------|\n",
        "|1|768805383|50.74|magalu|1|maria|150.7|subway|\n",
        "2|768805399|30.9|giraffas|2|valentina|210.99|postoshell|\n",
        "1|76856563|2000.9|magalu|1|maria|150.7|subway|\n",
        "1|767573759|15.7|subway|1|maria|150.7|subway|\n",
        "4|764545534|50.74|extra|4|joana|1300.5|magalu|\n",
        "5|76766789|10.0|subway|5|jose|500.43|magalu|\n",
        "| | | | |6|fernando|86.55|seveneleven|\n",
        "\n",
        "> **Atenção**: Extraia os resultados para o arquivo CSV através do botão de download e renomei-o com o número da query. Voce deve envia-lo para os tutores de EBAC."
      ]
    }
  ]
}