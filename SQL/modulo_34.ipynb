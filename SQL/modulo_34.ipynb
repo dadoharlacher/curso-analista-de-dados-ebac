{
  "nbformat": 4,
  "nbformat_minor": 0,
  "metadata": {
    "colab": {
      "provenance": [],
      "toc_visible": true
    },
    "kernelspec": {
      "name": "python3",
      "display_name": "Python 3"
    }
  },
  "cells": [
    {
      "cell_type": "markdown",
      "metadata": {
        "id": "KJqp9AANOCtf"
      },
      "source": [
        "<img src=\"https://raw.githubusercontent.com/andre-marcos-perez/ebac-course-utils/main/media/logo/newebac_logo_black_half.png\" alt=\"ebac-logo\">\n",
        "\n",
        "---\n",
        "\n",
        "# **Módulo** | SQL Avançado\n",
        "Caderno de **Exercícios**<br> \n",
        "Professor [Mariane Neiva](www.linkedin.com/in/mariane-neiva)\n",
        "\n",
        "---"
      ]
    },
    {
      "cell_type": "markdown",
      "metadata": {
        "id": "d9jDtUbDOE1-"
      },
      "source": [
        "# **Tópicos**\n",
        "\n",
        "<ol type=\"1\">\n",
        "  <li>Subqueries;</li>\n",
        "  <li>Agregações por particionamento</li>\n",
        "  <li>Visões;</li>\n",
        "</ol>"
      ]
    },
    {
      "cell_type": "markdown",
      "metadata": {
        "id": "SmoHgt-lwkpD"
      },
      "source": [
        "---"
      ]
    },
    {
      "cell_type": "markdown",
      "metadata": {
        "id": "DIlQOznoTPQF"
      },
      "source": [
        "# **Instruções**\n",
        "\n",
        "Neste exercícios, vamos configurar e testar os serviços AWS S3 e AWS Athena da plataforma de computação em nuvem da AWS para utilizarmos durante todo o curso: \n",
        "\n",
        "Na etapa de **configuração**, você deve seguir o passo a passo de configuração do ambiente, não há entregáveis.\n",
        "\n",
        "Na etapa de **atividades**, você deve:\n",
        "\n",
        " 1. Eexecutar a consulta SQL fornecida;\n",
        " 2. Exportar os resultados em um arquivo csv para sua máquina; \n",
        " 3. Renomear o arquivo como **query_\\<numero-da-query>.csv**;\n",
        " 4. Enviar para a avaliação do tutor na plataforma da EBAC.\n",
        "\n",
        "> **Atenção**: Substitua o **\\<numero-da-query>** numero da consulta, exemplo: **query1.csv**.\n",
        "\n"
      ]
    },
    {
      "cell_type": "markdown",
      "metadata": {
        "id": "vvlBORqbTPQp"
      },
      "source": [
        "---"
      ]
    },
    {
      "cell_type": "markdown",
      "metadata": {
        "id": "GABI6OW8OfQ2"
      },
      "source": [
        "# **Configuração**"
      ]
    },
    {
      "cell_type": "markdown",
      "metadata": {
        "id": "jdIScjXVWoHU"
      },
      "source": [
        "## 1\\. Configurando o AWS S3"
      ]
    },
    {
      "cell_type": "markdown",
      "metadata": {
        "id": "OCY24c61WoHW"
      },
      "source": [
        "1. Acesse AWS S3;\n",
        "2. Crie um novo bucket:\n",
        " *   **modulo7-<seu-nome\\>-ebac** \n",
        "3. Crie duas pastas dentro do bucket **modulo7-<seu-nome\\>-ebac**:\n",
        " *   **cliente**\n",
        " * **transacoes**\n",
        "4. Na pasta modulo7-<seu-nome\\>-ebac/cliente, carregue o arquivo **cliente.csv**\n",
        "5. Na pasta modulo7-<seu-nome\\>-ebac/transacoes, carregue o arquivo **transacoes.csv**\n",
        "\n",
        "> **Atenção**: Caso o bucket já exista, sinta-se a vontade para escolher o nome que desejar.\n",
        "\n",
        " > **Atenção**: Os arquivo **cliente.csv** e **transacoes.csv** está na plataforma da EBAC.\n",
        "\n",
        " >**Observação:** não é a mesma tabela de clientes do modulo 6. As lojas foram alteradas para melhorar os exemplos. "
      ]
    },
    {
      "cell_type": "markdown",
      "metadata": {
        "id": "k4HJwfbQcEQw"
      },
      "source": [
        "# Atividades"
      ]
    },
    {
      "cell_type": "markdown",
      "metadata": {
        "id": "Lyqe05QXcERP"
      },
      "source": [
        "# **1. Criação da tabela** "
      ]
    },
    {
      "cell_type": "markdown",
      "metadata": {
        "id": "Rq7i2Tb4cERP"
      },
      "source": [
        "No console do AWS Athena, execute a seguinte query:\n",
        "\n",
        "```sql\n",
        "CREATE EXTERNAL TABLE IF NOT EXISTS default.cliente (\n",
        "  `id_cliente` int,\n",
        "  `nome` string, \n",
        "  `valor_compra` double,\n",
        "  `loja_cadastro` string \n",
        ")\n",
        "ROW FORMAT SERDE 'org.apache.hadoop.hive.serde2.lazy.LazySimpleSerDe'\n",
        "WITH SERDEPROPERTIES (\n",
        "  'serialization.format' = ',',\n",
        "  'field.delim' = ','\n",
        ") LOCATION 's3://modulo-34/cliente/'\n",
        "TBLPROPERTIES ('has_encrypted_data'='false');\n",
        "```\n",
        "e\n",
        "\n",
        "```sql\n",
        "CREATE EXTERNAL TABLE IF NOT EXISTS default.transacoes (\n",
        "  `id_cliente` int,\n",
        "  `id_transacao` bigint,\n",
        "  `valor_compra` double,\n",
        "  `id_loja` string \n",
        ")\n",
        "ROW FORMAT SERDE 'org.apache.hadoop.hive.serde2.lazy.LazySimpleSerDe'\n",
        "WITH SERDEPROPERTIES (\n",
        "  'serialization.format' = ',',\n",
        "  'field.delim' = ','\n",
        ") LOCATION 's3://modulo-34/transacoes/'\n",
        "TBLPROPERTIES ('has_encrypted_data'='false');\n",
        "```\n",
        "\n",
        "Para cada uma das queries, no painel de resultados, você deve encontrar o seguinte resultado.\n",
        "\n",
        "```\n",
        "Query successful.\n",
        "```\n",
        "\n",
        "\n",
        "> **Atenção**: No campo LOCATION, substitua pelo caminho da sua pasta, exemplo: **modulo7-mari-ebac**.\n",
        "\n",
        "> **Atenção**: Nesta atividade, você não precisa exportar os resultados."
      ]
    },
    {
      "cell_type": "markdown",
      "metadata": {
        "id": "0cbohKQegVk7"
      },
      "source": [
        "# **2. Subqueries** "
      ]
    },
    {
      "cell_type": "markdown",
      "metadata": {
        "id": "0Airo3E0h5Ik"
      },
      "source": [
        "## 2.1. Query 1 "
      ]
    },
    {
      "cell_type": "markdown",
      "metadata": {
        "id": "2m92meC8gVk9"
      },
      "source": [
        "No console do AWS Athena, execute a seguinte query:\n",
        "\n",
        "```sql\n",
        "SELECT id_loja, id_cliente, id_transacao from transacoes \n",
        "WHERE id_loja IN\n",
        "(SELECT cliente.loja_cadastro from cliente where cliente.valor_compra > 160 )\n",
        "```\n",
        "\n",
        "\n",
        "\n",
        "|id_loja|id_cliente|id_transacao\n",
        "|-|-|-|\n",
        "|magalu|1|768805383|\n",
        "|postoshell|3|818770008|\n",
        "|magalu|1|76856563|\n",
        "\n",
        "> **Atenção**: Extraia os resultados para o arquivo CSV através do botão de download e renomei-o com o número da query. Voce deve envia-lo para os tutores de EBAC."
      ]
    },
    {
      "cell_type": "markdown",
      "metadata": {
        "id": "SHjoPsx2JFw8"
      },
      "source": [
        "# **3.Particionamento**\n",
        "\n",
        "**Configuração**\n",
        "\n",
        "\n"
      ]
    },
    {
      "cell_type": "markdown",
      "metadata": {
        "id": "GGd-CyaaylQK"
      },
      "source": [
        "1. Acesse AWS S3;\n",
        "2. Crie um novo bucket:\n",
        " *   **transacoes-partition-<seu-nome\\>** \n",
        "3. Crie duas pastas dentro do bucket **transacoes-partition-\\<seu-nome\\>**:\n",
        "* id_loja=magalu\n",
        "* id_loja=giraffas\n",
        "* id_loja=postoshell\n",
        "* id_loja=subway\n",
        "* id_loja=seveneleven\n",
        "* id_loja=extra\n",
        "* id_loja=shopee\n",
        "\n",
        "3. Em cada uma das pastas, carregue o arquivo CSV relativo à loja. \n",
        "\n",
        "> **Atenção**: Caso o bucket já exista, sinta-se a vontade para escolher o nome que desejar.\n",
        "\n",
        " > **Atenção**: Os arquivo  **.csv** estão na plataforma da EBAC.\n",
        "\n",
        " "
      ]
    },
    {
      "cell_type": "markdown",
      "metadata": {
        "id": "LtLFY61Gz3rU"
      },
      "source": [
        "Crie a tabela particionada: \n",
        "\n",
        "```sql\n",
        "CREATE EXTERNAL TABLE transacoes_part(\n",
        "  id_cliente BIGINT, \n",
        "  id_transacoes BIGINT, \n",
        "  valor DOUBLE) \n",
        "  PARTITIONED BY (id_loja string)\n",
        "ROW FORMAT SERDE 'org.apache.hadoop.hive.serde2.lazy.LazySimpleSerDe'\n",
        "WITH SERDEPROPERTIES (\n",
        "  'serialization.format' = ',',\n",
        "  'field.delim' = ','\n",
        ") \n",
        "LOCATION 's3://transacoes-partition-dado/'\n",
        "```\n",
        "\n",
        "E carregue as partições:\n",
        "\n",
        "```sql\n",
        "MSCK REPAIR TABLE transacoes_part;\n",
        "```\n",
        "\n",
        "No console do AWS Athena, execute a seguinte query:\n",
        "\n",
        "```sql\n",
        "select count(*) from transacoes\n",
        "```\n",
        "|_col0|\n",
        "|-|\n",
        "| 9 |\n",
        "\n",
        "e \n",
        "```sql\n",
        "select count(*) from transacoes_part\n",
        "```\n",
        "\n",
        "|_col0|\n",
        "|-|\n",
        "| 9 |\n",
        "\n",
        "> Não há necessidade de entrega nessa fase de configuração"
      ]
    },
    {
      "cell_type": "markdown",
      "metadata": {
        "id": "cNocCBKQJVea"
      },
      "source": [
        "## 3.1 Query 2 \n",
        "\n",
        "Execute a seguinte query:\n",
        "\n",
        "```sql\n",
        "SELECT * FROM transacoes_part where id_loja = 'magalu'\n",
        "```\n",
        "\n",
        "|id_cliente|id_transacoes|valor|id_loja|\n",
        "|----------|-------------|-----|-------|\n",
        "|1|768805383|50.74|magalu|\n",
        "|1|76856563|2000.9|magalu|\n",
        "\n",
        "> **Atenção**: Extraia os resultados para o arquivo CSV através do botão de download e renomei-o com o número da query. Voce deve envia-lo para os tutores de EBAC.\n",
        "\n",
        "Não há necessidade de entrega, mas compare o tamanho do data scanned da seleção acima em relação com:\n",
        "\n",
        "```sql\n",
        "SELECT * FROM transacoes where id_loja = 'magalu'\n",
        "```\n",
        "|id_cliente|id_transacoes|valor|id_loja|\n",
        "|----------|-------------|-----|-------|\n",
        "|1|768805383|50.74|magalu|\n",
        "|1|76856563|2000.9|magalu|"
      ]
    },
    {
      "cell_type": "markdown",
      "metadata": {
        "id": "H4hIfbRVJaUk"
      },
      "source": [
        "# **4. Visões**\n"
      ]
    },
    {
      "cell_type": "markdown",
      "metadata": {
        "id": "B7ogcizXJffQ"
      },
      "source": [
        "## 4.1 Query 3\n",
        "\n",
        "No console do AWS Athena, execute a seguinte query:\n",
        "\n",
        "```sql\n",
        "CREATE VIEW  transacoesv100 AS\n",
        "SELECT id_cliente , valor_compra, id_loja AS nome_loja FROM transacoes where valor_compra > 100\n",
        "```\n",
        "\n",
        "\n",
        "Extrai os resultados da query a seguir para envio da atividade **query3**:\n",
        "\n",
        "```sql\n",
        "select * from transacoesv100\n",
        "```\n",
        "\n",
        "|id_cliente|valor_compra|nome_loja|\n",
        "|----------|------------|---------|\n",
        "|3|110.0|postoshell|\n",
        "|1|\t2000.9|\tmagalu|\n",
        "|3|\t1100.0|\tshopee|\n"
      ]
    },
    {
      "cell_type": "markdown",
      "metadata": {
        "id": "TdPhadO3JizI"
      },
      "source": [
        "## 4.2 Query 4\n",
        "\n",
        "\n",
        "No console do AWS Athena, execute a seguinte query:\n",
        "\n",
        "```sql\n",
        "CREATE VIEW clientevalor  AS \n",
        "SELECT id_cliente, valor_compra FROM transacoes ORDER BY valor_compra DESC LIMIT 2;\n",
        "```\n",
        "\n",
        "Extrai os resultados da query a seguir para envio da atividade **query4**:\n",
        "\n",
        "```sql\n",
        "select * from clientevalor\n",
        "```\n",
        "\n",
        "|id_cliente|\tvalor_compra|\n",
        "|-|-|\n",
        "|1|\t2000.9|\n",
        "|3|1100.0|\n"
      ]
    },
    {
      "cell_type": "markdown",
      "metadata": {
        "id": "gIxDNP5w1evy"
      },
      "source": [
        "# 5. Bônus\n",
        "\n",
        "Nessa atividade não há necessidade de entrega, no entanto, sugerimos que testem os seguintes comandos de visão:\n",
        "\n",
        "```sql\n",
        "describe clientevalor\n",
        "```\n",
        "![image.png](data:image/png;base64,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)\n",
        "\n",
        "```sql\n",
        "show columns in clientevalor\n",
        "```\n",
        "\n",
        "![image.png](data:image/png;base64,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)\n",
        "```sql\n",
        "show views\n",
        "```\n",
        " \n",
        "![image.png](data:image/png;base64,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) \n",
        "```sql\n",
        "show create view clientevalor\n",
        "```\n",
        "\n",
        "![image.png](data:image/png;base64,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)\n",
        "```sql\n",
        "drop view clientevalor \n",
        "```"
      ]
    }
  ]
}