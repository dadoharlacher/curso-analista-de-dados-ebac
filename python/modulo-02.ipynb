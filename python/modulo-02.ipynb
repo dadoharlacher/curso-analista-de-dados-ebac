{
  "nbformat": 4,
  "nbformat_minor": 0,
  "metadata": {
    "colab": {
      "name": "Exercicios_mod2.ipynb",
      "provenance": [],
      "toc_visible": true
    },
    "kernelspec": {
      "name": "python3",
      "display_name": "Python 3"
    },
    "language_info": {
      "name": "python"
    }
  },
  "cells": [
    {
      "cell_type": "markdown",
      "source": [
        "# Exercicio 1"
      ],
      "metadata": {
        "id": "inoSNPLirQQg"
      }
    },
    {
      "cell_type": "markdown",
      "source": [
        "**1. listas**\n",
        "\n",
        "Criei uma lista chamada filmes com o nome dos 10 primeiros filmes mais bem avaliados no site no IMDB. imprima o resultado."
      ],
      "metadata": {
        "id": "PmF2RYa9rVyI"
      }
    },
    {
      "cell_type": "code",
      "execution_count": 9,
      "metadata": {
        "colab": {
          "base_uri": "https://localhost:8080/"
        },
        "id": "SKUieosVrOht",
        "outputId": "bfc12a72-cd14-4d0e-9da0-814b6b8aa393"
      },
      "outputs": [
        {
          "output_type": "stream",
          "name": "stdout",
          "text": [
            "['Um sonho de liberdade', 'O poderoso chefão', 'Batman: O cavaleiro das trevas', 'O poderoso chefão II', '12 homens e uma sentença', 'A lista de schindler', 'O senhor dos aneis: O retorno do rei', 'Pulp fiction: Tempo de violência', 'O senhor dos anéis: A sociedade do anel', 'Três homens em conflito']\n",
            "10\n"
          ]
        }
      ],
      "source": [
        "top_10_imdb = ['Um sonho de liberdade', \n",
        "               'O poderoso chefão', \n",
        "               'Batman: O cavaleiro das trevas',\n",
        "               'O poderoso chefão II', \n",
        "               '12 homens e uma sentença', \n",
        "               'A lista de schindler', \n",
        "               'O senhor dos aneis: O retorno do rei', \n",
        "               'Pulp fiction: Tempo de violência', \n",
        "               'O senhor dos anéis: A sociedade do anel', \n",
        "               'Três homens em conflito']\n",
        "print(top_10_imdb)\n",
        "print(len(top_10_imdb))"
      ]
    },
    {
      "cell_type": "markdown",
      "source": [
        "Simule a movimentação do ranking. Utilize os métodos insert e pop para trocar a posição\n",
        "do primeiro e do segundo filme da lista. Imprima o resultado"
      ],
      "metadata": {
        "id": "gp1dV5CZtzIx"
      }
    },
    {
      "cell_type": "code",
      "source": [
        "top_10_imdb.pop(0)\n",
        "top_10_imdb.insert(0,'O poderoso chefão')\n",
        "top_10_imdb.pop(1)\n",
        "top_10_imdb.insert(1,'Um sonho de liberdade')\n",
        "\n",
        "print(top_10_imdb)\n",
        "print(len(top_10_imdb))"
      ],
      "metadata": {
        "colab": {
          "base_uri": "https://localhost:8080/"
        },
        "id": "3U8-SpRruFP9",
        "outputId": "de3f120b-70d1-46ed-dde0-fa799fb3b9a6"
      },
      "execution_count": 12,
      "outputs": [
        {
          "output_type": "stream",
          "name": "stdout",
          "text": [
            "['O poderoso chefão', 'Um sonho de liberdade', 'Batman: O cavaleiro das trevas', 'O poderoso chefão II', '12 homens e uma sentença', 'A lista de schindler', 'O senhor dos aneis: O retorno do rei', 'Pulp fiction: Tempo de violência', 'O senhor dos anéis: A sociedade do anel', 'Três homens em conflito']\n",
            "10\n"
          ]
        }
      ]
    },
    {
      "cell_type": "markdown",
      "source": [
        "# 2. Conjuntos\n",
        "\n",
        "Aconteceu um erro no seu ranking. Simule a duplicação dos três últimos filmes da lista. Imprima o resultado."
      ],
      "metadata": {
        "id": "GBHVO8pnwAgB"
      }
    },
    {
      "cell_type": "code",
      "source": [
        "top_10_imdb.append('Pulp fiction: Tempo de violência')\n",
        "top_10_imdb.append('O senhor dos anéis: A sociedade do anel')\n",
        "top_10_imdb.append('Três homens em conflito')\n",
        "print(len(top_10_imdb))\n",
        "print(top_10_imdb)"
      ],
      "metadata": {
        "colab": {
          "base_uri": "https://localhost:8080/"
        },
        "id": "JuM8IwSSwp6O",
        "outputId": "3a09ddc9-7c6b-4f66-d53f-78942ec4d86e"
      },
      "execution_count": null,
      "outputs": [
        {
          "output_type": "stream",
          "name": "stdout",
          "text": [
            "13\n",
            "['O poderoso chefão', 'Um sonho de liberdade', 'O poderoso chefão', 'O poderoso chefão II', '12 homens e uma sentença', 'A lista de schindler', 'O senhor dos aneis: O retorno do rei', 'Pulp fiction: Tempo de violência', 'O senhor dos anéis: A sociedade do anel', 'Três homens em conflito', 'Pulp fiction: Tempo de violência', 'O senhor dos anéis: A sociedade do anel', 'Três homens em conflito']\n"
          ]
        }
      ]
    },
    {
      "cell_type": "markdown",
      "source": [
        "Utiliza a conversão set e list para remover os valores duplicados. Imprima o resultado"
      ],
      "metadata": {
        "id": "nyJjptI_xXPY"
      }
    },
    {
      "cell_type": "code",
      "source": [
        "lista_filmes = set(top_10_imdb)\n",
        "print(lista_filmes)\n",
        "print(len(lista_filmes))"
      ],
      "metadata": {
        "colab": {
          "base_uri": "https://localhost:8080/"
        },
        "id": "8W66aNQGxkzt",
        "outputId": "14f8ec4c-b78c-4b33-d535-c47ffb5337ea"
      },
      "execution_count": null,
      "outputs": [
        {
          "output_type": "stream",
          "name": "stdout",
          "text": [
            "{'O senhor dos anéis: A sociedade do anel', 'O poderoso chefão', '12 homens e uma sentença', 'O poderoso chefão II', 'Três homens em conflito', 'Batman: O cavaleiro das trevas', 'A lista de schindler', 'Um sonho de liberdade', 'Pulp fiction: Tempo de violência', 'O senhor dos aneis: O retorno do rei'}\n",
            "10\n"
          ]
        }
      ]
    },
    {
      "cell_type": "markdown",
      "source": [
        "# 3. Dicionários\n",
        "\n",
        "Repita os exercícios da parte 1 (listas). Os elementos da lista filmes devem ser dicionários\n",
        "no seguinte formato: {'nome': <nome-do-filme>, 'ano': <ano do filme>},\n",
        "'sinopse': <sinopse do filme>} .\n"
      ],
      "metadata": {
        "id": "kTSkAoqW2vQR"
      }
    },
    {
      "cell_type": "code",
      "source": [
        "lista_imdb = [\n",
        "{'Nome':'Um sonho de liberdade', 'Ano':'1994', 'Sinopse':'Dois homens presos se reúnem ao longo de vários anos, encontrando consolo e eventual redenção através de atos de decência comum.'},\n",
        "{'Nome':'O poderoso chefão', 'Ano':'1972', 'Sinopse':'O patriarca idoso de uma dinastia do crime organizado transfere o controle de seu império clandestino para seu filho relutante.'},\n",
        "{'Nome':'Batman: O Cavaleiro das Trevas', 'Ano':'2008', 'Sinopse':'Quando a ameaça conhecida como O Coringa surge de seu passado, causa estragos e caos nas pessoas de Gotham. O Cavaleiro das Trevas deve aceitar um dos maiores testes para combater a injustiça.'},\n",
        "{'Nome':'O poderoso chefão II', 'Ano':'1972', 'Sinopse':'Em 1950, Michael Corleone, agora à frente da família, tenta expandir o negócio do crime a Las Vegas, Los Angeles e Cuba. Paralelamente, é revelada a história de Vito Corleone, e de como saiu da Sicília e chegou a Nova Iorque.'},\n",
        "{'Nome':'12 homens e uma sentença', 'Ano':'1957', 'Sinopse':'Um jurado que se aposenta tenta evitar um erro judicial forçando seus colegas a reconsiderarem as evidências.'},\n",
        "{'Nome':'A Lista de Schindler', 'Ano':'1993', 'Sinopse':'Depois de testemunhar a perseguição dos judaicos na Polônia ocupada pelos alemães durante a Segunda Guerra Mundial, o industrial Oskar Schindler se começa a preocupar com sua força de trabalho judaica.'},\n",
        "{'Nome':'O Senhor dos Anéis: O Retorno do Rei', 'Ano':'2003', 'Sinopse': 'Gandalf e Aragorn lideram o Mundo dos Homens contra o exército de Sauron para desviar o olhar de Frodo e Sam quando eles se aproximam á Montanha da Perdição com o Um Anel.'},\n",
        "{'Nome':'Pulp Fiction: Tempo de Violência', 'Ano':'1994','Sinopse':'As vidas de dois assassinos da máfia, um boxeador, um gângster e sua esposa, e um par de bandidos se entrelaçam em quatro histórias de violência e redenção.'},\n",
        "{'Nome':'O Senhor dos Anéis: A Sociedade do Anel', 'Ano':'2001', 'Sinopse':'Um manso hobbit do Condado e oito companheiros partem em uma jornada para destruir o poderoso Um Anel e salvar a Terra-média das Trevas.'},\n",
        "{'Nome':'Três Homens em Conflito', 'Ano':'1966', 'Sinopse':'Um impostor se junta com dois homens para encontrar fortuna num remoto cemitério.'}\n",
        "]\n",
        "\n",
        "print(lista_imdb)"
      ],
      "metadata": {
        "colab": {
          "base_uri": "https://localhost:8080/"
        },
        "id": "wGCNOWKL22y_",
        "outputId": "82dd7795-9d33-484b-e77d-336622a50b77"
      },
      "execution_count": 15,
      "outputs": [
        {
          "output_type": "stream",
          "name": "stdout",
          "text": [
            "[{'Nome': 'Um sonho de liberdade', 'Ano': '1994', 'Sinopse': 'Dois homens presos se reúnem ao longo de vários anos, encontrando consolo e eventual redenção através de atos de decência comum.'}, {'Nome': 'O poderoso chefão', 'Ano': '1972', 'Sinopse': 'O patriarca idoso de uma dinastia do crime organizado transfere o controle de seu império clandestino para seu filho relutante.'}, {'Nome': 'Batman: O Cavaleiro das Trevas', 'Ano': '2008', 'Sinopse': 'Quando a ameaça conhecida como O Coringa surge de seu passado, causa estragos e caos nas pessoas de Gotham. O Cavaleiro das Trevas deve aceitar um dos maiores testes para combater a injustiça.'}, {'Nome': 'O poderoso chefão II', 'Ano': '1972', 'Sinopse': 'Em 1950, Michael Corleone, agora à frente da família, tenta expandir o negócio do crime a Las Vegas, Los Angeles e Cuba. Paralelamente, é revelada a história de Vito Corleone, e de como saiu da Sicília e chegou a Nova Iorque.'}, {'Nome': '12 homens e uma sentença', 'Ano': '1957', 'Sinopse': 'Um jurado que se aposenta tenta evitar um erro judicial forçando seus colegas a reconsiderarem as evidências.'}, {'Nome': 'A Lista de Schindler', 'Ano': '1993', 'Sinopse': 'Depois de testemunhar a perseguição dos judaicos na Polônia ocupada pelos alemães durante a Segunda Guerra Mundial, o industrial Oskar Schindler se começa a preocupar com sua força de trabalho judaica.'}, {'Nome': 'O Senhor dos Anéis: O Retorno do Rei', 'Ano': '2003', 'Sinopse': 'Gandalf e Aragorn lideram o Mundo dos Homens contra o exército de Sauron para desviar o olhar de Frodo e Sam quando eles se aproximam á Montanha da Perdição com o Um Anel.'}, {'Nome': 'Pulp Fiction: Tempo de Violência', 'Ano': '1994', 'Sinopse': 'As vidas de dois assassinos da máfia, um boxeador, um gângster e sua esposa, e um par de bandidos se entrelaçam em quatro histórias de violência e redenção.'}, {'Nome': 'O Senhor dos Anéis: A Sociedade do Anel', 'Ano': '2001', 'Sinopse': 'Um manso hobbit do Condado e oito companheiros partem em uma jornada para destruir o poderoso Um Anel e salvar a Terra-média das Trevas.'}, {'Nome': 'Três Homens em Conflito', 'Ano': '1966', 'Sinopse': 'Um impostor se junta com dois homens para encontrar fortuna num remoto cemitério.'}]\n"
          ]
        }
      ]
    }
  ]
}