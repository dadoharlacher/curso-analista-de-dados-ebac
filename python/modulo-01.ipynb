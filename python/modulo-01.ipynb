{
  "nbformat": 4,
  "nbformat_minor": 0,
  "metadata": {
    "colab": {
      "name": "Exercicios_mod1.ipynb",
      "provenance": [],
      "toc_visible": true
    },
    "kernelspec": {
      "name": "python3",
      "display_name": "Python 3"
    }
  },
  "cells": [
    {
      "cell_type": "markdown",
      "metadata": {
        "id": "SmoHgt-lwkpD"
      },
      "source": [
        "---"
      ]
    },
    {
      "cell_type": "markdown",
      "metadata": {
        "id": "GABI6OW8OfQ2"
      },
      "source": [
        "# **Exercícios**"
      ]
    },
    {
      "cell_type": "markdown",
      "metadata": {
        "id": "muD1vxozykSC"
      },
      "source": [
        "## 1\\. Google Colab"
      ]
    },
    {
      "cell_type": "markdown",
      "metadata": {
        "id": "ahrFfCuBxJKs"
      },
      "source": [
        "Crie uma célula de código que escreva o texto \"Olá mundo!\", utilize o comando `print`."
      ]
    },
    {
      "cell_type": "code",
      "source": [
        "print(\"Olá mundo\")"
      ],
      "metadata": {
        "colab": {
          "base_uri": "https://localhost:8080/"
        },
        "id": "LFsNo5saBWBT",
        "outputId": "b54c3ab9-36fc-4c4b-f8c9-832af818f889"
      },
      "execution_count": null,
      "outputs": [
        {
          "output_type": "stream",
          "name": "stdout",
          "text": [
            "Olá mundo\n"
          ]
        }
      ]
    },
    {
      "cell_type": "markdown",
      "metadata": {
        "id": "KI9zQRT2xa7m"
      },
      "source": [
        "Crie uma célua de texto e adicione uma imagem."
      ]
    },
    {
      "cell_type": "markdown",
      "source": [
        "![Screenshot_1.png](data:image/png;base64,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)"
      ],
      "metadata": {
        "id": "zDAxIQaICqmu"
      }
    },
    {
      "cell_type": "markdown",
      "metadata": {
        "id": "zMN1Q3jdwoJm"
      },
      "source": [
        "---"
      ]
    },
    {
      "cell_type": "markdown",
      "source": [
        ""
      ],
      "metadata": {
        "id": "mPrjZuWuB5Rz"
      }
    },
    {
      "cell_type": "markdown",
      "metadata": {
        "id": "tFYOPLS3xiwe"
      },
      "source": [
        "## 2\\. Números"
      ]
    },
    {
      "cell_type": "markdown",
      "metadata": {
        "id": "O2G9gt7tx2c-"
      },
      "source": [
        "Preencha as células de código para preencher os valores de (A), (B) e (C) na tabela de ticket médio abaixo:\n",
        "\n",
        "<br>\n",
        "\n",
        "| Dia   | Valor Total Vendas | Qtd Total Vendas | Ticket Medio |\n",
        "|-------|--------------------|------------------|--------------|\n",
        "| 19/01 | (A)                | 3                | 320.52       |\n",
        "| 20/01 | 834.47             | (B)              | 119.21       |\n",
        "| 23/01 | 15378.12           | 5                | (C)          |"
      ]
    },
    {
      "cell_type": "code",
      "metadata": {
        "id": "nsrKH9EizNRD",
        "colab": {
          "base_uri": "https://localhost:8080/"
        },
        "outputId": "f122d329-6d14-4062-9da7-e145ded9a065"
      },
      "source": [
        "# (A)\n",
        "qnt_Total_vendas = 3\n",
        "Ticket_medio = 320.52\n",
        "A = qnt_Total_vendas*Ticket_medio\n",
        "print(A)"
      ],
      "execution_count": null,
      "outputs": [
        {
          "output_type": "stream",
          "name": "stdout",
          "text": [
            "961.56\n"
          ]
        }
      ]
    },
    {
      "cell_type": "code",
      "metadata": {
        "id": "QQ1GBGHJzMmi",
        "colab": {
          "base_uri": "https://localhost:8080/"
        },
        "outputId": "ab62078a-5864-4b86-bbcc-089110c2b31e"
      },
      "source": [
        "# (B)\n",
        "Valor_Total_Vendas = 834.47\n",
        "Ticket_medio = 119.21\n",
        "B = Valor_Total_Vendas/Ticket_medio\n",
        "print(int(B))"
      ],
      "execution_count": null,
      "outputs": [
        {
          "output_type": "stream",
          "name": "stdout",
          "text": [
            "7\n"
          ]
        }
      ]
    },
    {
      "cell_type": "code",
      "metadata": {
        "id": "W-li0nSMzKNa",
        "colab": {
          "base_uri": "https://localhost:8080/"
        },
        "outputId": "ef6c585a-14d2-4287-f2d1-31c3fc6601c3"
      },
      "source": [
        "# (C)\n",
        "Valor_Total_Vendas = 15378.12\n",
        "qnt_Total_vendas = 5\n",
        "C = Valor_Total_Vendas/qnt_Total_vendas\n",
        "print(round(float(C),2))"
      ],
      "execution_count": 3,
      "outputs": [
        {
          "output_type": "stream",
          "name": "stdout",
          "text": [
            "3075.62\n"
          ]
        }
      ]
    },
    {
      "cell_type": "markdown",
      "metadata": {
        "id": "3eoP-Vj9yzh8"
      },
      "source": [
        "---"
      ]
    },
    {
      "cell_type": "markdown",
      "metadata": {
        "id": "yUJ6kdony6Pr"
      },
      "source": [
        "## 3\\. Strings"
      ]
    },
    {
      "cell_type": "markdown",
      "metadata": {
        "id": "KDuZpg-5zCvO"
      },
      "source": [
        "Aplique três métodos distintos na *string* abaixo, você pode conferir alguns métodos neste [link](https://www.w3schools.com/python/python_ref_string.asp):"
      ]
    },
    {
      "cell_type": "code",
      "metadata": {
        "id": "k9zbyf7BzjKj",
        "colab": {
          "base_uri": "https://localhost:8080/"
        },
        "outputId": "29dd25a7-35f6-4bca-8559-dc10880311b1"
      },
      "source": [
        "cancao = 'Roda mundo, roda gigante, roda moinho, roda pião.'\n",
        "print(cancao.upper())\n",
        "print(cancao.isnumeric())\n",
        "print(cancao.strip())"
      ],
      "execution_count": null,
      "outputs": [
        {
          "output_type": "stream",
          "name": "stdout",
          "text": [
            "RODA MUNDO, RODA GIGANTE, RODA MOINHO, RODA PIÃO.\n",
            "False\n",
            "Roda mundo, roda gigante, roda moinho, roda pião.\n"
          ]
        }
      ]
    },
    {
      "cell_type": "markdown",
      "metadata": {
        "id": "guZMHXVq0FnC"
      },
      "source": [
        "Extraia da string abaixo o valor da taxa **selic** na variável `selic` e o valor do **ano** na variavel `ano`. Imprima os valores na tela."
      ]
    },
    {
      "cell_type": "code",
      "metadata": {
        "id": "cbx_P4IQ0agK",
        "colab": {
          "base_uri": "https://localhost:8080/"
        },
        "outputId": "b986829d-d7ae-464a-8098-74ec9b61f4f7"
      },
      "source": [
        "noticia = 'Selic vai a 2,75% e supera expectativas; é a primeira alta em 6 anos.'\n",
        "selic = noticia.find('2,75%')\n",
        "ano = noticia.find('anos')\n",
        "print(noticia[12:16])\n",
        "print(noticia[62])"
      ],
      "execution_count": 12,
      "outputs": [
        {
          "output_type": "stream",
          "name": "stdout",
          "text": [
            "2,75\n",
            "6\n"
          ]
        }
      ]
    },
    {
      "cell_type": "markdown",
      "metadata": {
        "id": "wWzbu-OC0z3L"
      },
      "source": [
        "---"
      ]
    },
    {
      "cell_type": "markdown",
      "metadata": {
        "id": "no8w_Ati01xP"
      },
      "source": [
        "## 4\\. Booleanos"
      ]
    },
    {
      "cell_type": "markdown",
      "metadata": {
        "id": "D_0tC3SC099N"
      },
      "source": [
        "Utilize a tabela da verdade para responder: qual o valor da variável x?"
      ]
    },
    {
      "cell_type": "code",
      "metadata": {
        "id": "XwIEbxf91SpU",
        "colab": {
          "base_uri": "https://localhost:8080/"
        },
        "outputId": "72e23ec0-d50c-406e-bbf1-8b21943fe04d"
      },
      "source": [
        "a = False\n",
        "b = True\n",
        "\n",
        "x = not a & b\n",
        "\n",
        "print(x)"
      ],
      "execution_count": null,
      "outputs": [
        {
          "output_type": "stream",
          "name": "stdout",
          "text": [
            "True\n"
          ]
        }
      ]
    }
  ]
}